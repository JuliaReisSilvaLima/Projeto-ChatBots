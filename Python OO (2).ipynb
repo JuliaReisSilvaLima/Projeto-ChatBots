{
 "cells": [
  {
   "cell_type": "code",
   "execution_count": null,
   "id": "b9060a64",
   "metadata": {},
   "outputs": [],
   "source": [
    "Biblioteca\n"
   ]
  },
  {
   "cell_type": "code",
   "execution_count": null,
   "id": "cf748f0f",
   "metadata": {},
   "outputs": [],
   "source": [
    "Autor: Possui o nome representado por três atributos: primeiro nome, nome do meio e último nome além da data de nascimento \n",
    "(você pode usar a classe pessoa e adaptá-la). Todos esses atributos devem ser fornecidos no construtor, porém, o nome do meio\n",
    "é opcional (valor default = ‘’).O autor possuirá o atributo calculado nome_como_citado que irá retornar o último nome maiúculo\n",
    "e a primeira letra do primeiro nome e, logo após, um ponto. \n",
    "Exemplo: “DALIP D.” sendo que Dalip é o último nome de Daniel é o primeiro nome. Nesse atributo,o nome do meio não será usado."
   ]
  },
  {
   "cell_type": "code",
   "execution_count": null,
   "id": "2cae8435",
   "metadata": {},
   "outputs": [],
   "source": [
    "Livro: Possui os atributos: titulo, ano e uma lista de autores\n",
    "O título não poderá ser vazio, caso seja, você irá lançar uma exceção ValueError. \n",
    "Use a anotação @property para isso (veja slide).\n",
    "No construtor, a lista de autores pode ser omitida (sendo uma lista vazia [] por padrão)"
   ]
  },
  {
   "cell_type": "code",
   "execution_count": null,
   "id": "97aa08d8",
   "metadata": {},
   "outputs": [],
   "source": [
    "Biblioteca: possui uma lista de livros. Ela deve possuir um atributo calculado livros_por_autor que utilizará a lista de livros\n",
    "para retornar um dicionário onde cada chave será o nome de um autor e, cada valor, será a lista de livros deste autor."
   ]
  },
  {
   "cell_type": "code",
   "execution_count": 13,
   "id": "be816438",
   "metadata": {},
   "outputs": [
    {
     "name": "stdout",
     "output_type": "stream",
     "text": [
      "{'Titulo 1': 'Maze Runner', 'Ano 1': 2008, 'Titulo 2': 'Maze Runner 2', 'Ano 2': 2010}\n"
     ]
    }
   ],
   "source": [
    "def nome_como_citado(str1, str2):\n",
    "    return f\"{str2.upper()} {str1[0].upper()}.\"\n",
    "class Autor():\n",
    "    listaAutores = []\n",
    "    def __init__(self, primNome, ultimoNome, dataNasc, nomeMeio=\"\"):\n",
    "        self.primNome = primNome\n",
    "        self.nomeMeio = nomeMeio\n",
    "        self.ultimoNome = ultimoNome\n",
    "        self.dataNasc = dataNasc\n",
    "        nomeCompleto = f\"{primNome} {nomeMeio} {ultimoNome}\"\n",
    "        if nomeCompleto not in Autor.listaAutores:\n",
    "            Autor.listaAutores.append(nomeCompleto)\n",
    "            \n",
    "\n",
    "    def __str__(self):\n",
    "        return f\"{self.ultimoNome.upper()} {self.primNome[0].upper()}.\"\n",
    "    \n",
    "    \n",
    "    def __repr__(self):\n",
    "        return str(self)\n",
    "    \n",
    "\n",
    "class Livro():\n",
    "    biblioteca = []\n",
    "    def __init__(self, titulo, ano, nomeAutor, nascAutor, listaAutores=''):\n",
    "        self.titulo = titulo\n",
    "        self. ano = ano\n",
    "        nomeAutor = nomeAutor.split(' ')\n",
    "        autor = Autor(nomeAutor[0], nomeAutor[len(nomeAutor) - 1], nascAutor)\n",
    "        self.autor = autor\n",
    "        self.nascAutor = nascAutor\n",
    "        Livro.biblioteca.append(self)\n",
    "        \n",
    "    @property\n",
    "    def titulo(self):\n",
    "        return self._titulo\n",
    "    @titulo.setter\n",
    "    def titulo(self, tit):\n",
    "        if tit == \"\":\n",
    "            raise ValueError(\"O titulo nao pode ser vazio\")\n",
    "        self._titulo = tit\n",
    "        \n",
    "\n",
    "    def __str__(self):\n",
    "        return f\"Titulo: {self.titulo}; Autor: {self.autor}; Ano: {self.ano}\"\n",
    "    def __repr__(self):\n",
    "        return str(self)\n",
    "\n",
    "class Biblioteca():\n",
    "    def __init__(self, autor):\n",
    "        autor = autor.split(' ')\n",
    "        autorFormatado = nome_como_citado(autor[0], autor[len(autor) - 1])\n",
    "        autorFormatado = str(autorFormatado)\n",
    "        cont = 1\n",
    "        vetorAutores = {}\n",
    "        listaLivros = Livro.biblioteca\n",
    "        \n",
    "        for livro in listaLivros:\n",
    "              livro.autor = str(livro.autor)\n",
    "              if livro.autor == autorFormatado:\n",
    "                  vetorAutores.update({f\"Titulo {cont}\": livro.titulo, f\"Ano {cont}\": livro.ano})\n",
    "                  cont += 1\n",
    "\n",
    "        \n",
    "        self.livros_por_autor = vetorAutores\n",
    "    def __repr__(self):\n",
    "        return str(self.livros_por_autor)\n",
    "    \n",
    "\n",
    "def main():\n",
    "    livro1 = Livro('Maze Runner', 2008, \"James Dashne\", \"1/1/1999\", Autor.listaAutores)\n",
    "    livro2 = Livro('Maze Runner 2', 2010, \"James Dashne\", \"1/1/1999\", Autor.listaAutores)\n",
    "    livro3 = Livro('O fazedor de velhos', 2019, 'Rodrigo Lacerda', '02/10/2000', Autor.listaAutores)\n",
    "    \n",
    "    \n",
    "    biblio = Biblioteca('James Dashne')\n",
    "    print(biblio)\n",
    " \n",
    "if __name__ == '__main__':\n",
    "    main()"
   ]
  },
  {
   "cell_type": "code",
   "execution_count": null,
   "id": "0dd7b7ab",
   "metadata": {},
   "outputs": [],
   "source": [
    "Exercício 0.1\n",
    "Implemente a função metodos_vetor que recebe como parâmetro um vetor e retorna o próprio, porém com as seguintes modificações:\n",
    "\n",
    "Ordene o vetor de forma crescente\n",
    "Remova o último elemento do vetor (quando já ordenado)\n",
    "Insira a palavra abacate no início\n",
    "Retorne o vetor resultante"
   ]
  },
  {
   "cell_type": "code",
   "execution_count": 162,
   "id": "107defdf",
   "metadata": {},
   "outputs": [
    {
     "name": "stdout",
     "output_type": "stream",
     "text": [
      "['abacate', 'abacaxi', 'maçã', 'pera']\n"
     ]
    }
   ],
   "source": [
    "def metodos_vetor (vetor):\n",
    "    vetor.sort()\n",
    "    vetor.pop()\n",
    "    vetor.insert(0,\"abacate\")\n",
    "    return vetor\n",
    "    \n",
    "      \n",
    "vetor_str = [\"uva\", \"maçã\", \"abacaxi\", \"pera\"]\n",
    "vetor_final = metodos_vetor(vetor_str)\n",
    "print(vetor_final)"
   ]
  },
  {
   "cell_type": "code",
   "execution_count": null,
   "id": "2f51163b",
   "metadata": {},
   "outputs": [],
   "source": [
    "Exercício 0.2\n",
    "Implemente a função metodos_string que recebe como parâmetro uma string e a retorna com as seguintes modificações:\n",
    "\n",
    "Deixá-la toda maiúscula\n",
    "Substituir todas as letras \"o\" por \"a\". Veja o método replace será útil\n",
    "Escreva a string resultante"
   ]
  },
  {
   "cell_type": "code",
   "execution_count": 172,
   "id": "e7e2ee4f",
   "metadata": {},
   "outputs": [
    {
     "name": "stdout",
     "output_type": "stream",
     "text": [
      "CAMEMARAÇÃA ALHA\n"
     ]
    }
   ],
   "source": [
    "def metodos_string (string):\n",
    "    string = string.upper()\n",
    "    string = string.replace(\"O\",\"A\")\n",
    "    return string\n",
    "\n",
    "str_1 = \"comemoração\"\n",
    "str_2 = \"olho\"\n",
    "str1_result = metodos_string(str_1)\n",
    "str2_result = metodos_string(str_2)\n",
    "print(str1_result,str2_result)\n",
    "\n",
    "    "
   ]
  },
  {
   "cell_type": "code",
   "execution_count": null,
   "id": "0d0e83d0",
   "metadata": {},
   "outputs": [],
   "source": [
    "Exercício 1: Conversão de datas\n",
    "Implemente a função converte_data que recebe como parâmetro uma data no formato DD/MM/YYYY (ex: 09/03/2021) \n",
    "e converte para o formato por extenso \"DD de M de YYYY\" (ou seja, 09 de março de 2020) e escreva-a.\n",
    "\n",
    "Adiciona abaixo a função obtem_mes implementada no exercício 0.2 (unidade 2) para te auxiliar. \n",
    "Além disso, o método split será útil também."
   ]
  },
  {
   "cell_type": "code",
   "execution_count": 187,
   "id": "05c41fa6",
   "metadata": {},
   "outputs": [
    {
     "name": "stdout",
     "output_type": "stream",
     "text": [
      "31 de Outubro de 2020 22 de Janeiro de 2004\n"
     ]
    }
   ],
   "source": [
    "def obtem_mes(mes):\n",
    "    meses = [\"Janeiro\",\"Fevereiro\",\"Março\",\"Abril\",\"Maio\",\"Junho\",\"Julho\",\"Agosto\",\"Setembro\",\"Outubro\",\"Novembro\",\"Dezemebro\"]\n",
    "    indice = mes - 1\n",
    "    return meses[indice]\n",
    "    \n",
    "data_1 = \"31/10/2020\"\n",
    "data_2 = \"22/01/2004\"\n",
    "data_1 = data_1.split(\"/\")\n",
    "data_2 = data_2.split(\"/\")\n",
    "mes_1 = int(data_1[1])\n",
    "mes_2 = int(data_2[1])\n",
    "mes_1 = obtem_mes(mes_1)\n",
    "mes_2 = obtem_mes(mes_2)\n",
    "data_final1 = f\"{data_1[0]} de {mes_1} de {data_1[2]}\"\n",
    "data_final2 = f\"{data_2[0]} de {mes_2} de {data_2[2]}\"\n",
    "print(data_final1,data_final2)\n"
   ]
  },
  {
   "cell_type": "code",
   "execution_count": null,
   "id": "71558262",
   "metadata": {},
   "outputs": [],
   "source": [
    "Exercício 2: Operações em string\n",
    "    elimina_caracteres (2 parâmetros) Elimina todas as ocorrências dos caracteres especificados de um texto. \n",
    "    Tanto o texto quanto os caracteres a serem removidos são passados como parâmetros.\n",
    "    Exemplo: elimina_caracteres('correndo contra o tempo', 'coe') devem resultar na string rrnd cntra tmp. \n",
    "    Não altere o for já criado! O método .replace pode te ajudar! consulte documentação ou os slides.\n",
    "    DICA: Será necessario usar o .replace uma vez para cada caractere especificado (ou seja, dentro de um laço)."
   ]
  },
  {
   "cell_type": "code",
   "execution_count": 192,
   "id": "e8c07f8c",
   "metadata": {},
   "outputs": [
    {
     "name": "stdout",
     "output_type": "stream",
     "text": [
      "rrnd ntra  tmp trg para tgrs trsts\n"
     ]
    }
   ],
   "source": [
    "def elimina_caracteres(texto, caracteres_para_eliminar):\n",
    "    \n",
    "    for caracter_eliminar in range(len(caracteres_para_eliminar)):\n",
    "        texto = texto.replace(caracteres_para_eliminar[caracter_eliminar],\"\")\n",
    "    return texto\n",
    "\n",
    "resultado_1 = elimina_caracteres(\"correndo contra o tempo\", \"coe\")\n",
    "resultado_2 = elimina_caracteres(\"trigo para tigres tristes\", \"ieo\")\n",
    "print(resultado_1,resultado_2)"
   ]
  },
  {
   "cell_type": "code",
   "execution_count": null,
   "id": "8a488bb0",
   "metadata": {},
   "outputs": [],
   "source": [
    "substitua_caracteres: (3 parâmetros) Dado um texto, uma string de procura e uma string de reposição, \n",
    "    sendo que a string de procura e reposição são de mesmo tamanho. Substitua no texto o caractere na posição \n",
    "    i da string de procura pelo caractere na mesma posição i na string de reposição. O texto, os caracteres \n",
    "    a serem procurados no texto e os caracteres a serem colocados no lugar serão passados como parâmetro.\n",
    "Exemplo: substitua_caracteres('o sapo nao lava o pe', 'aoe', 'iiu') devem resultar na string 'i sipi nii livi i pu'.\n",
    "\n",
    "DICA: Será necessario usar o .replace uma vez para cada caractere especificado (ou seja, dentro de um laço)."
   ]
  },
  {
   "cell_type": "code",
   "execution_count": 197,
   "id": "c1f849e8",
   "metadata": {},
   "outputs": [
    {
     "name": "stdout",
     "output_type": "stream",
     "text": [
      "i sipi nii livi i pu unu cempreu umu urerunhu\n"
     ]
    }
   ],
   "source": [
    "def substitua_caracteres(texto, caracteres_procura, caracteres_substituir_por):\n",
    "    for i in range(len(caracteres_procura)):\n",
    "        caractere_procura = caracteres_procura[i]\n",
    "        caractere_substituir_por = caracteres_substituir_por[i]\n",
    "        texto = texto.replace(caractere_procura, caractere_substituir_por)\n",
    "    return texto\n",
    "\n",
    "resultado_1 = substitua_caracteres('o sapo nao lava o pe', 'aoe', 'iiu')\n",
    "resultado_2 = substitua_caracteres('ana comprou uma ariranha', 'aoi', 'uee') \n",
    "print(resultado_1,resultado_2)"
   ]
  },
  {
   "cell_type": "code",
   "execution_count": null,
   "id": "c2cc8c4c",
   "metadata": {},
   "outputs": [],
   "source": [
    "Exercício 3: Palíndromos 👑\n",
    "Segundo a Oxford Languages, plaíndromos são textos que se pode ler, indiferentemente, da esquerda para a direita ou vice-versa. \n",
    "Por exemplo: \"arara\", \"asa\", \"mirim\"... E também as frases: \"A cara rajada da jararaca\",\n",
    "\"Socorram-me, subi no ônibus em Marrocos\"...Perceba que, em frases, deve-se ignorar a pontuação, acentuação, espaços e \n",
    "maiúsculas/minúsculas.\n",
    "\n",
    "Implemente a função verifica_palindromo que recebe como parâmetro uma string (texto ou única palavra) \n",
    "e retorna true caso o parâmetro seja um palíndromo ou false, caso contrário.\n",
    "\n",
    "As funções do exercício anterior podem lhe ajudar para processamento de string, para isso chame-as e não implemente-as.\n",
    "Ignore as seguintes pontuações: , - ! ? e o espaço em branco. \n",
    "Além disso, acentos agudos, til e circunflexo em vogais devem ser ignorados."
   ]
  },
  {
   "cell_type": "code",
   "execution_count": 4,
   "id": "e3b2b137",
   "metadata": {},
   "outputs": [
    {
     "name": "stdout",
     "output_type": "stream",
     "text": [
      "aposasopa\n",
      "aposasopa\n",
      "auzl\n",
      "lzua\n",
      "A string inserida é um Palíndromo\n",
      "A string inserida não é um Palíndromo\n"
     ]
    }
   ],
   "source": [
    "def verifica_palindromo(texto)->bool:\n",
    "    length_texto =len(texto)\n",
    "    import unidecode\n",
    "    texto = unidecode.unidecode(texto)\n",
    "    texto_invertido = texto[length_texto::-1] \n",
    "    texto = texto.replace(\" \", \"\")\n",
    "    texto_invertido = texto_invertido.replace(\" \", \"\")\n",
    "    print(texto)\n",
    "    print(texto_invertido)\n",
    "   \n",
    "    if texto == texto_invertido:\n",
    "        return True\n",
    "    else:\n",
    "        return False\n",
    "      \n",
    "        \n",
    "resultado1 = verifica_palindromo(\"após a sopa\") \n",
    "resultado2 = verifica_palindromo(\"auzl\")\n",
    "\n",
    "if resultado1 == True:\n",
    "    print(\"A string inserida é um Palíndromo\")\n",
    "else:\n",
    "     print(\"A string inserida não é um Palíndromo\")\n",
    "\n",
    "if resultado2 == True:\n",
    "    print(\"A string inserida é um Palíndromo\")\n",
    "else:\n",
    "     print(\"A string inserida não é um Palíndromo\")\n",
    "\n",
    "        "
   ]
  },
  {
   "cell_type": "code",
   "execution_count": null,
   "id": "526d3973",
   "metadata": {},
   "outputs": [],
   "source": [
    "Exercício 4: Funções como parâmetro 1\n",
    "Em Python podemos passar as funções como parâmetro -valor de uma variável- e vamos treinar isso\n",
    "(consulte o tutorial no bloco de código anterior).\n",
    "\n",
    "Veja a função da_oi_para é uma função que imprime uma \"interface de dar oi\" para determinada pessoa.\n",
    "A forma de se dar oi é controlado pelo parâmetro função_de_dar_oi, que é uma função que recebe o nome \n",
    "da pessoa e é responsável por retorna uma string com o \"oi\" devidamente escrito em seu idioma. \n",
    "Além desse parâmetro, a função da_oi_para espera o nome da pessoa. No bloco abaixo temos sua implementação,\n",
    "repare tambpem nas vezes que ela foi invocada.\n",
    "\n",
    "Invoque a função da_oi_para em que o parâmetro funcao_de_dar_oi será uma função criada por você. \n",
    "Lembre-se que ela deve obrigatóriamente possuir o parâmetro do nome da pessoa e retorna uma string.\n",
    "\n",
    "Crie, pelo menos, a função de três formas diferentes, tal como o exemplo\n",
    "\n",
    "PS: Lembre-se de sempre rodar a função antes e trocar os null"
   ]
  },
  {
   "cell_type": "code",
   "execution_count": 14,
   "id": "5ea7b44f",
   "metadata": {},
   "outputs": [
    {
     "name": "stdout",
     "output_type": "stream",
     "text": [
      "**************************Chat*************************\n",
      "Heloo Gabriel, How are you ?\n",
      "*******************************************************\n",
      "**************************Chat*************************\n",
      "Hola Leticia, todo bien?\n",
      "*******************************************************\n",
      "**************************Chat*************************\n",
      "Hey Nathan, es ist alles in Ordnung?\n",
      "*******************************************************\n"
     ]
    }
   ],
   "source": [
    "def dar_oi_para(funcao_de_oi,pessoa):\n",
    "    str_oi = funcao_de_oi(pessoa)\n",
    "    print(\"**************************Chat*************************\")\n",
    "    print(str_oi)\n",
    "    print(\"*******************************************************\")\n",
    "    \n",
    "def oi_ingles(pessoa):\n",
    "    return f\"Heloo {pessoa}, How are you ?\"\n",
    "\n",
    "oi_espanhol = lambda pessoa : f\"Hola {pessoa}, todo bien?\"\n",
    "\n",
    "    \n",
    "dar_oi_para(oi_ingles, \"Gabriel\")\n",
    "dar_oi_para(oi_espanhol, \"Leticia\")\n",
    "dar_oi_para(lambda pessoa : f\"Hey {pessoa}, es ist alles in Ordnung?\", \"Nathan\")"
   ]
  },
  {
   "cell_type": "code",
   "execution_count": null,
   "id": "3bdbcfcb",
   "metadata": {},
   "outputs": [],
   "source": [
    "Exercício 5: Funções como parâmetro 2\n",
    "Você irá implementar a função executa_operacao_vetor que recebe como parâmetro uma operação (função) e dois vetores,\n",
    "vetor1 e vetor2, de mesmo tamanho, e executa uma operação entre os elementos da mesma posição deste vetor.\n",
    "Esta operação é uma função que será chamada para cada posição deste vetor (ex: operacao(vetor1[i], vetor2[i]))\n",
    "e retornará o resultado desta operação. Caso os dois vetores sejam de tamanho diferentes, \n",
    "deve-se exibir uma mensagem de erro e não realizar a operação.\n",
    "\n",
    "Veja o exemplo abaixo, considerando a operação soma (implementada no exercício 0.2).\n",
    "\n",
    "\n",
    "\n",
    "Você deverá implementar a função executa_operacao_vetor e três operações distintas (por exemplo, soma(a, b), \n",
    "multiplica(a, b) e subtrai(a, b)), cada uma, criando uma função de forma uma diferente,\n",
    "siga o tutorial e o exercício anterior."
   ]
  },
  {
   "cell_type": "raw",
   "id": "263833d9",
   "metadata": {},
   "source": [
    "def executa_operacao_vetor(funcao_da_operacao,vetor1=[],vetor2=[]):\n",
    "    result = []\n",
    "    for i in range(0,len(vetor1)):\n",
    "        result.append(funcao_da_operacao(vetor1[i],vetor2[i]))\n",
    "    \n",
    "    return result\n",
    "    \n",
    "    \n",
    "def soma(a,b):\n",
    "    return a+b\n",
    "    \n",
    "subtracao = lambda x,y: x-y    \n",
    "\n",
    "\n",
    "\n",
    "vetor1  = [1,2,3,4]\n",
    "vetor2  = [8,9,10,5]\n",
    "\n",
    "\n",
    "resultado_soma = executa_operacao_vetor(soma,vetor1,vetor2)\n",
    "resulado_multiplicacao = list(map(lambda x,y: x *y, vetor1,vetor2))\n",
    "resultado_sub = executa_operacao_vetor(subtracao,vetor1,vetor2)\n",
    "\n",
    "print(resultado_soma)\n",
    "print(resultado_sub)\n",
    "print(resulado_multiplicacao)"
   ]
  },
  {
   "cell_type": "code",
   "execution_count": 8,
   "id": "b9bd1c27",
   "metadata": {},
   "outputs": [
    {
     "name": "stdout",
     "output_type": "stream",
     "text": [
      "[10, 11, 13, 9]\n",
      "[-8, -7, -7, -1]\n",
      "[9, 18, 30, 20]\n"
     ]
    }
   ],
   "source": [
    "def executa_operacao_vetor(funcao_da_operacao,vetor1=[],vetor2=[]):\n",
    "    result = []\n",
    "    for i in range(0,len(vetor1)):\n",
    "        result.append(funcao_da_operacao(vetor1[i],vetor2[i]))\n",
    "    \n",
    "    return result\n",
    "    \n",
    "    \n",
    "def soma(a,b):\n",
    "    return a+b\n",
    "    \n",
    "subtracao = lambda x,y: x-y    \n",
    "\n",
    "\n",
    "\n",
    "vetor1  = [1,2,3,4]\n",
    "vetor2  = [9,9,10,5]\n",
    "\n",
    "\n",
    "resultado_soma = executa_operacao_vetor(soma,vetor1,vetor2)\n",
    "resulado_multiplicacao = list(map(lambda x,y: x *y, vetor1,vetor2))\n",
    "resultado_sub = executa_operacao_vetor(subtracao,vetor1,vetor2)\n",
    "\n",
    "print(resultado_soma)\n",
    "print(resultado_sub)\n",
    "print(resulado_multiplicacao)"
   ]
  }
 ],
 "metadata": {
  "kernelspec": {
   "display_name": "Python 3 (ipykernel)",
   "language": "python",
   "name": "python3"
  },
  "language_info": {
   "codemirror_mode": {
    "name": "ipython",
    "version": 3
   },
   "file_extension": ".py",
   "mimetype": "text/x-python",
   "name": "python",
   "nbconvert_exporter": "python",
   "pygments_lexer": "ipython3",
   "version": "3.8.10"
  }
 },
 "nbformat": 4,
 "nbformat_minor": 5
}
