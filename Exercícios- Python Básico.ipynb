{
 "cells": [
  {
   "cell_type": "code",
   "execution_count": null,
   "id": "5533ad3c",
   "metadata": {
    "scrolled": true
   },
   "outputs": [],
   "source": [
    "maior(a,b): Retorna o maior valor entre a e b"
   ]
  },
  {
   "cell_type": "code",
   "execution_count": 3,
   "id": "1cff04a9",
   "metadata": {},
   "outputs": [
    {
     "name": "stdout",
     "output_type": "stream",
     "text": [
      "76\n"
     ]
    }
   ],
   "source": [
    "def maior (a,b):\n",
    "    if a < b:\n",
    "        return b\n",
    "    else:\n",
    "        return a\n",
    "\n",
    "a = 76\n",
    "b = 6\n",
    "x = maior(a,b) \n",
    "print(x) "
   ]
  },
  {
   "cell_type": "code",
   "execution_count": null,
   "id": "17264e75",
   "metadata": {},
   "outputs": [],
   "source": [
    "soma(lista,x): retorna o somatório dos valores passados pela lista. O argumento x deve ser opcional que, se passado, será somado ao resultado final."
   ]
  },
  {
   "cell_type": "code",
   "execution_count": 14,
   "id": "9e3f7759",
   "metadata": {},
   "outputs": [
    {
     "name": "stdout",
     "output_type": "stream",
     "text": [
      "19\n"
     ]
    }
   ],
   "source": [
    "def soma(lista,x=0):\n",
    "    somaTotal = 0    \n",
    "    for num in lista:\n",
    "        somaTotal = somaTotal + num\n",
    "\n",
    "    somaTotal = somaTotal + x\n",
    "    return somaTotal\n",
    "\n",
    "lista = [1,2,3,4]\n",
    "b = soma(lista) \n",
    "print(b)           "
   ]
  },
  {
   "cell_type": "code",
   "execution_count": null,
   "id": "1fc73e49",
   "metadata": {},
   "outputs": [],
   "source": [
    "media(lista): Retorna a média dos valores passados pela lista"
   ]
  },
  {
   "cell_type": "code",
   "execution_count": 27,
   "id": "3ee9c84f",
   "metadata": {},
   "outputs": [
    {
     "name": "stdout",
     "output_type": "stream",
     "text": [
      "5.25\n"
     ]
    }
   ],
   "source": [
    "def media(lista):\n",
    "    somaTotal = 0\n",
    "    for num in lista:\n",
    "        somaTotal = somaTotal + num\n",
    "\n",
    "    media = 0\n",
    "    media = somaTotal/len(lista)\n",
    "    return media\n",
    "\n",
    "lista = [1,2,8,10]\n",
    "b = media(lista) \n",
    "print(b)   "
   ]
  },
  {
   "cell_type": "code",
   "execution_count": null,
   "id": "e851038d",
   "metadata": {},
   "outputs": [],
   "source": [
    "valores_iguais(lista1,lista2): retorna uma lista contendo os valores iguais entre as duas listas passadas como parâmetro"
   ]
  },
  {
   "cell_type": "code",
   "execution_count": 74,
   "id": "aca08835",
   "metadata": {},
   "outputs": [
    {
     "name": "stdout",
     "output_type": "stream",
     "text": [
      "1\n",
      "5\n",
      "4\n"
     ]
    }
   ],
   "source": [
    "def valores_iguais(lista1,lista2):\n",
    "    lista = []\n",
    "   \n",
    "    for num1 in lista1:\n",
    "        for num2 in lista2:\n",
    "            if num1 == num2:\n",
    "                lista.append(num2)\n",
    "            else:   \n",
    "                num2 = 'block'\n",
    "                \n",
    "                \n",
    "    return lista\n",
    "lista1 = [1,5,4,3]\n",
    "lista2 = [5,1,4]\n",
    "\n",
    "b = valores_iguais(lista1,lista2) \n",
    "for num in b:\n",
    "        print(num)\n",
    "                "
   ]
  },
  {
   "cell_type": "code",
   "execution_count": null,
   "id": "96a7221d",
   "metadata": {},
   "outputs": [],
   "source": [
    "indice_prim_valor_igual(lista1,lista2): retorna a posição na lista1 do primeiro valor igual ao da lista2. Caso não exista, é retornado None."
   ]
  },
  {
   "cell_type": "code",
   "execution_count": 85,
   "id": "bbd338ed",
   "metadata": {},
   "outputs": [
    {
     "name": "stdout",
     "output_type": "stream",
     "text": [
      "2\n"
     ]
    }
   ],
   "source": [
    "def indice_prim_valor_igual(lista1,lista2):\n",
    "    n = 0\n",
    "    for num1 in lista1:\n",
    "        for num2 in lista2:\n",
    "            if num1 == num2:\n",
    "                return n\n",
    "        n = n + 1        \n",
    "    return None\n",
    "lista1 = [6,0,5]\n",
    "lista2 = [5,3,4]\n",
    "\n",
    "b = indice_prim_valor_igual(lista1,lista2) \n",
    "print(b)\n"
   ]
  },
  {
   "cell_type": "code",
   "execution_count": null,
   "id": "50cd22a9",
   "metadata": {},
   "outputs": [],
   "source": []
  },
  {
   "cell_type": "code",
   "execution_count": null,
   "id": "d435c0a3",
   "metadata": {},
   "outputs": [],
   "source": []
  },
  {
   "cell_type": "code",
   "execution_count": null,
   "id": "9edd7abf",
   "metadata": {},
   "outputs": [],
   "source": []
  }
 ],
 "metadata": {
  "kernelspec": {
   "display_name": "Python 3 (ipykernel)",
   "language": "python",
   "name": "python3"
  },
  "language_info": {
   "codemirror_mode": {
    "name": "ipython",
    "version": 3
   },
   "file_extension": ".py",
   "mimetype": "text/x-python",
   "name": "python",
   "nbconvert_exporter": "python",
   "pygments_lexer": "ipython3",
   "version": "3.8.10"
  }
 },
 "nbformat": 4,
 "nbformat_minor": 5
}
